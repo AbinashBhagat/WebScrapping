{
 "cells": [
  {
   "cell_type": "code",
   "execution_count": 1,
   "metadata": {},
   "outputs": [],
   "source": [
    "from selenium import webdriver\n",
    "from bs4 import BeautifulSoup\n",
    "import pandas as pd\n",
    "import time"
   ]
  },
  {
   "cell_type": "code",
   "execution_count": 33,
   "metadata": {},
   "outputs": [
    {
     "name": "stderr",
     "output_type": "stream",
     "text": [
      "C:\\Users\\abinash.k.bhagat\\AppData\\Local\\Temp\\ipykernel_30648\\198760729.py:1: DeprecationWarning: executable_path has been deprecated, please pass in a Service object\n",
      "  driver = webdriver.Chrome(\"C:/webdrivers/chromedriver.exe\")\n"
     ]
    }
   ],
   "source": [
    "driver = webdriver.Chrome(\"C:/webdrivers/chromedriver.exe\")\n",
    "driver.get(\"https://store.unionlosangeles.com/collections/outerwear?sort_by=creation_date&page_num=2\")"
   ]
  },
  {
   "cell_type": "code",
   "execution_count": 3,
   "metadata": {},
   "outputs": [],
   "source": [
    "soup = BeautifulSoup(driver.page_source, 'lxml')"
   ]
  },
  {
   "cell_type": "code",
   "execution_count": 36,
   "metadata": {},
   "outputs": [
    {
     "name": "stdout",
     "output_type": "stream",
     "text": [
      "0\n",
      "1\n"
     ]
    },
    {
     "ename": "StaleElementReferenceException",
     "evalue": "Message: stale element reference: element is not attached to the page document\n  (Session info: chrome=100.0.4896.88)\nStacktrace:\nBacktrace:\n\tOrdinal0 [0x00D57413+2389011]\n\tOrdinal0 [0x00CE9F61+1941345]\n\tOrdinal0 [0x00BDC658+837208]\n\tOrdinal0 [0x00BDF064+847972]\n\tOrdinal0 [0x00BDEF22+847650]\n\tOrdinal0 [0x00BDF1B0+848304]\n\tOrdinal0 [0x00C0ABD9+1027033]\n\tOrdinal0 [0x00BFFEB6+982710]\n\tOrdinal0 [0x00C2414C+1130828]\n\tOrdinal0 [0x00BFF974+981364]\n\tOrdinal0 [0x00C24364+1131364]\n\tOrdinal0 [0x00C34302+1196802]\n\tOrdinal0 [0x00C23F66+1130342]\n\tOrdinal0 [0x00BFE546+976198]\n\tOrdinal0 [0x00BFF456+980054]\n\tGetHandleVerifier [0x00F09632+1727522]\n\tGetHandleVerifier [0x00FBBA4D+2457661]\n\tGetHandleVerifier [0x00DEEB81+569713]\n\tGetHandleVerifier [0x00DEDD76+566118]\n\tOrdinal0 [0x00CF0B2B+1968939]\n\tOrdinal0 [0x00CF5988+1989000]\n\tOrdinal0 [0x00CF5A75+1989237]\n\tOrdinal0 [0x00CFECB1+2026673]\n\tBaseThreadInitThunk [0x7699FA29+25]\n\tRtlGetAppContainerNamedObjectPath [0x76F27A7E+286]\n\tRtlGetAppContainerNamedObjectPath [0x76F27A4E+238]\n",
     "output_type": "error",
     "traceback": [
      "\u001b[1;31m---------------------------------------------------------------------------\u001b[0m",
      "\u001b[1;31mStaleElementReferenceException\u001b[0m            Traceback (most recent call last)",
      "\u001b[1;32mc:\\Users\\abinash.k.bhagat\\Desktop\\WebScrapping\\Infinite Scrolling\\Union_Los_Angeles.ipynb Cell 4'\u001b[0m in \u001b[0;36m<cell line: 2>\u001b[1;34m()\u001b[0m\n\u001b[0;32m      <a href='vscode-notebook-cell:/c%3A/Users/abinash.k.bhagat/Desktop/WebScrapping/Infinite%20Scrolling/Union_Los_Angeles.ipynb#ch0000003?line=3'>4</a>\u001b[0m \u001b[39mnext\u001b[39m \u001b[39m=\u001b[39m driver\u001b[39m.\u001b[39mfind_element(By\u001b[39m.\u001b[39mXPATH, \u001b[39m'\u001b[39m\u001b[39m//*[@id=\u001b[39m\u001b[39m\"\u001b[39m\u001b[39misp_pagination_anchor\u001b[39m\u001b[39m\"\u001b[39m\u001b[39m]/ul/li[7]/a\u001b[39m\u001b[39m'\u001b[39m)\n\u001b[0;32m      <a href='vscode-notebook-cell:/c%3A/Users/abinash.k.bhagat/Desktop/WebScrapping/Infinite%20Scrolling/Union_Los_Angeles.ipynb#ch0000003?line=4'>5</a>\u001b[0m time\u001b[39m.\u001b[39msleep(\u001b[39m3\u001b[39m)\n\u001b[1;32m----> <a href='vscode-notebook-cell:/c%3A/Users/abinash.k.bhagat/Desktop/WebScrapping/Infinite%20Scrolling/Union_Los_Angeles.ipynb#ch0000003?line=5'>6</a>\u001b[0m \u001b[39mnext\u001b[39;49m\u001b[39m.\u001b[39;49mclick()\n",
      "File \u001b[1;32m~\\AppData\\Local\\Programs\\Python\\Python39\\lib\\site-packages\\selenium\\webdriver\\remote\\webelement.py:81\u001b[0m, in \u001b[0;36mWebElement.click\u001b[1;34m(self)\u001b[0m\n\u001b[0;32m     <a href='file:///c%3A/Users/abinash.k.bhagat/AppData/Local/Programs/Python/Python39/lib/site-packages/selenium/webdriver/remote/webelement.py?line=78'>79</a>\u001b[0m \u001b[39mdef\u001b[39;00m \u001b[39mclick\u001b[39m(\u001b[39mself\u001b[39m) \u001b[39m-\u001b[39m\u001b[39m>\u001b[39m \u001b[39mNone\u001b[39;00m:\n\u001b[0;32m     <a href='file:///c%3A/Users/abinash.k.bhagat/AppData/Local/Programs/Python/Python39/lib/site-packages/selenium/webdriver/remote/webelement.py?line=79'>80</a>\u001b[0m     \u001b[39m\"\"\"Clicks the element.\"\"\"\u001b[39;00m\n\u001b[1;32m---> <a href='file:///c%3A/Users/abinash.k.bhagat/AppData/Local/Programs/Python/Python39/lib/site-packages/selenium/webdriver/remote/webelement.py?line=80'>81</a>\u001b[0m     \u001b[39mself\u001b[39;49m\u001b[39m.\u001b[39;49m_execute(Command\u001b[39m.\u001b[39;49mCLICK_ELEMENT)\n",
      "File \u001b[1;32m~\\AppData\\Local\\Programs\\Python\\Python39\\lib\\site-packages\\selenium\\webdriver\\remote\\webelement.py:710\u001b[0m, in \u001b[0;36mWebElement._execute\u001b[1;34m(self, command, params)\u001b[0m\n\u001b[0;32m    <a href='file:///c%3A/Users/abinash.k.bhagat/AppData/Local/Programs/Python/Python39/lib/site-packages/selenium/webdriver/remote/webelement.py?line=707'>708</a>\u001b[0m     params \u001b[39m=\u001b[39m {}\n\u001b[0;32m    <a href='file:///c%3A/Users/abinash.k.bhagat/AppData/Local/Programs/Python/Python39/lib/site-packages/selenium/webdriver/remote/webelement.py?line=708'>709</a>\u001b[0m params[\u001b[39m'\u001b[39m\u001b[39mid\u001b[39m\u001b[39m'\u001b[39m] \u001b[39m=\u001b[39m \u001b[39mself\u001b[39m\u001b[39m.\u001b[39m_id\n\u001b[1;32m--> <a href='file:///c%3A/Users/abinash.k.bhagat/AppData/Local/Programs/Python/Python39/lib/site-packages/selenium/webdriver/remote/webelement.py?line=709'>710</a>\u001b[0m \u001b[39mreturn\u001b[39;00m \u001b[39mself\u001b[39;49m\u001b[39m.\u001b[39;49m_parent\u001b[39m.\u001b[39;49mexecute(command, params)\n",
      "File \u001b[1;32m~\\AppData\\Local\\Programs\\Python\\Python39\\lib\\site-packages\\selenium\\webdriver\\remote\\webdriver.py:425\u001b[0m, in \u001b[0;36mWebDriver.execute\u001b[1;34m(self, driver_command, params)\u001b[0m\n\u001b[0;32m    <a href='file:///c%3A/Users/abinash.k.bhagat/AppData/Local/Programs/Python/Python39/lib/site-packages/selenium/webdriver/remote/webdriver.py?line=422'>423</a>\u001b[0m response \u001b[39m=\u001b[39m \u001b[39mself\u001b[39m\u001b[39m.\u001b[39mcommand_executor\u001b[39m.\u001b[39mexecute(driver_command, params)\n\u001b[0;32m    <a href='file:///c%3A/Users/abinash.k.bhagat/AppData/Local/Programs/Python/Python39/lib/site-packages/selenium/webdriver/remote/webdriver.py?line=423'>424</a>\u001b[0m \u001b[39mif\u001b[39;00m response:\n\u001b[1;32m--> <a href='file:///c%3A/Users/abinash.k.bhagat/AppData/Local/Programs/Python/Python39/lib/site-packages/selenium/webdriver/remote/webdriver.py?line=424'>425</a>\u001b[0m     \u001b[39mself\u001b[39;49m\u001b[39m.\u001b[39;49merror_handler\u001b[39m.\u001b[39;49mcheck_response(response)\n\u001b[0;32m    <a href='file:///c%3A/Users/abinash.k.bhagat/AppData/Local/Programs/Python/Python39/lib/site-packages/selenium/webdriver/remote/webdriver.py?line=425'>426</a>\u001b[0m     response[\u001b[39m'\u001b[39m\u001b[39mvalue\u001b[39m\u001b[39m'\u001b[39m] \u001b[39m=\u001b[39m \u001b[39mself\u001b[39m\u001b[39m.\u001b[39m_unwrap_value(\n\u001b[0;32m    <a href='file:///c%3A/Users/abinash.k.bhagat/AppData/Local/Programs/Python/Python39/lib/site-packages/selenium/webdriver/remote/webdriver.py?line=426'>427</a>\u001b[0m         response\u001b[39m.\u001b[39mget(\u001b[39m'\u001b[39m\u001b[39mvalue\u001b[39m\u001b[39m'\u001b[39m, \u001b[39mNone\u001b[39;00m))\n\u001b[0;32m    <a href='file:///c%3A/Users/abinash.k.bhagat/AppData/Local/Programs/Python/Python39/lib/site-packages/selenium/webdriver/remote/webdriver.py?line=427'>428</a>\u001b[0m     \u001b[39mreturn\u001b[39;00m response\n",
      "File \u001b[1;32m~\\AppData\\Local\\Programs\\Python\\Python39\\lib\\site-packages\\selenium\\webdriver\\remote\\errorhandler.py:247\u001b[0m, in \u001b[0;36mErrorHandler.check_response\u001b[1;34m(self, response)\u001b[0m\n\u001b[0;32m    <a href='file:///c%3A/Users/abinash.k.bhagat/AppData/Local/Programs/Python/Python39/lib/site-packages/selenium/webdriver/remote/errorhandler.py?line=244'>245</a>\u001b[0m         alert_text \u001b[39m=\u001b[39m value[\u001b[39m'\u001b[39m\u001b[39malert\u001b[39m\u001b[39m'\u001b[39m]\u001b[39m.\u001b[39mget(\u001b[39m'\u001b[39m\u001b[39mtext\u001b[39m\u001b[39m'\u001b[39m)\n\u001b[0;32m    <a href='file:///c%3A/Users/abinash.k.bhagat/AppData/Local/Programs/Python/Python39/lib/site-packages/selenium/webdriver/remote/errorhandler.py?line=245'>246</a>\u001b[0m     \u001b[39mraise\u001b[39;00m exception_class(message, screen, stacktrace, alert_text)  \u001b[39m# type: ignore[call-arg]  # mypy is not smart enough here\u001b[39;00m\n\u001b[1;32m--> <a href='file:///c%3A/Users/abinash.k.bhagat/AppData/Local/Programs/Python/Python39/lib/site-packages/selenium/webdriver/remote/errorhandler.py?line=246'>247</a>\u001b[0m \u001b[39mraise\u001b[39;00m exception_class(message, screen, stacktrace)\n",
      "\u001b[1;31mStaleElementReferenceException\u001b[0m: Message: stale element reference: element is not attached to the page document\n  (Session info: chrome=100.0.4896.88)\nStacktrace:\nBacktrace:\n\tOrdinal0 [0x00D57413+2389011]\n\tOrdinal0 [0x00CE9F61+1941345]\n\tOrdinal0 [0x00BDC658+837208]\n\tOrdinal0 [0x00BDF064+847972]\n\tOrdinal0 [0x00BDEF22+847650]\n\tOrdinal0 [0x00BDF1B0+848304]\n\tOrdinal0 [0x00C0ABD9+1027033]\n\tOrdinal0 [0x00BFFEB6+982710]\n\tOrdinal0 [0x00C2414C+1130828]\n\tOrdinal0 [0x00BFF974+981364]\n\tOrdinal0 [0x00C24364+1131364]\n\tOrdinal0 [0x00C34302+1196802]\n\tOrdinal0 [0x00C23F66+1130342]\n\tOrdinal0 [0x00BFE546+976198]\n\tOrdinal0 [0x00BFF456+980054]\n\tGetHandleVerifier [0x00F09632+1727522]\n\tGetHandleVerifier [0x00FBBA4D+2457661]\n\tGetHandleVerifier [0x00DEEB81+569713]\n\tGetHandleVerifier [0x00DEDD76+566118]\n\tOrdinal0 [0x00CF0B2B+1968939]\n\tOrdinal0 [0x00CF5988+1989000]\n\tOrdinal0 [0x00CF5A75+1989237]\n\tOrdinal0 [0x00CFECB1+2026673]\n\tBaseThreadInitThunk [0x7699FA29+25]\n\tRtlGetAppContainerNamedObjectPath [0x76F27A7E+286]\n\tRtlGetAppContainerNamedObjectPath [0x76F27A4E+238]\n"
     ]
    }
   ],
   "source": [
    "from selenium.webdriver.common.by import By\n",
    "for i in range(4):\n",
    "    print(i)\n",
    "    next = driver.find_element(By.XPATH, '//*[@id=\"isp_pagination_anchor\"]/ul/li[7]/a')\n",
    "    time.sleep(3)\n",
    "    next.click()\n",
    "    "
   ]
  },
  {
   "cell_type": "code",
   "execution_count": null,
   "metadata": {},
   "outputs": [],
   "source": []
  }
 ],
 "metadata": {
  "interpreter": {
   "hash": "13d2792e4f2819b8093960b039132d3760743ed60be27fa60d69b27299b1c98d"
  },
  "kernelspec": {
   "display_name": "Python 3.9.2 64-bit",
   "language": "python",
   "name": "python3"
  },
  "language_info": {
   "codemirror_mode": {
    "name": "ipython",
    "version": 3
   },
   "file_extension": ".py",
   "mimetype": "text/x-python",
   "name": "python",
   "nbconvert_exporter": "python",
   "pygments_lexer": "ipython3",
   "version": "3.9.2"
  },
  "orig_nbformat": 4
 },
 "nbformat": 4,
 "nbformat_minor": 2
}
