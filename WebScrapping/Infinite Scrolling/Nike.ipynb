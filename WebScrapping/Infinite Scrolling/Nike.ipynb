{
 "cells": [
  {
   "cell_type": "code",
   "execution_count": 2,
   "metadata": {},
   "outputs": [],
   "source": [
    "from selenium import webdriver\n",
    "from bs4 import BeautifulSoup\n",
    "import pandas as pd\n",
    "import time"
   ]
  },
  {
   "cell_type": "code",
   "execution_count": 3,
   "metadata": {},
   "outputs": [
    {
     "name": "stderr",
     "output_type": "stream",
     "text": [
      "C:\\Users\\abinash.k.bhagat\\AppData\\Local\\Temp\\ipykernel_22316\\1866650241.py:1: DeprecationWarning: executable_path has been deprecated, please pass in a Service object\n",
      "  driver = webdriver.Chrome(\"C:/webdrivers/chromedriver.exe\")\n"
     ]
    }
   ],
   "source": [
    "driver = webdriver.Chrome(\"C:/webdrivers/chromedriver.exe\")\n",
    "driver.get(\"https://www.nike.com/in/w/sale-3yaep\")"
   ]
  },
  {
   "cell_type": "markdown",
   "metadata": {},
   "source": [
    "### Scrolling upto last item."
   ]
  },
  {
   "cell_type": "code",
   "execution_count": 4,
   "metadata": {},
   "outputs": [
    {
     "name": "stdout",
     "output_type": "stream",
     "text": [
      "14313 5431\n",
      "23203 14313\n",
      "32094 23203\n",
      "40984 32094\n",
      "49875 40984\n",
      "58765 49875\n",
      "67656 58765\n",
      "76546 67656\n",
      "80992 76546\n",
      "89882 80992\n",
      "98773 89882\n",
      "107663 98773\n",
      "116554 107663\n",
      "125444 116554\n",
      "133101 125444\n",
      "133101 133101\n"
     ]
    }
   ],
   "source": [
    "last_height = driver.execute_script('return document.body.scrollHeight')\n",
    "while True:\n",
    "    driver.execute_script('window.scrollTo(0,document.body.scrollHeight)')\n",
    "    time.sleep(2)\n",
    "    new_height = driver.execute_script('return document.body.scrollHeight')\n",
    "    print(new_height, last_height)\n",
    "    if new_height == last_height:\n",
    "        break\n",
    "    last_height = new_height\n"
   ]
  },
  {
   "cell_type": "markdown",
   "metadata": {},
   "source": [
    "### Finding each product details"
   ]
  },
  {
   "cell_type": "code",
   "execution_count": 5,
   "metadata": {},
   "outputs": [],
   "source": [
    "soup = BeautifulSoup(driver.page_source, 'lxml')"
   ]
  },
  {
   "cell_type": "code",
   "execution_count": 6,
   "metadata": {},
   "outputs": [],
   "source": [
    "product_card = soup.find_all('div', class_='product-card__body')\n",
    "\n",
    "df = pd.DataFrame({'Link': [''],\n",
    "                   'Name': [''],\n",
    "                   'Subtitle': [''],\n",
    "                   'Price': [''],\n",
    "                   'Sale Price': ['']})\n",
    "\n",
    "for product in product_card:\n",
    "    try:\n",
    "        link = product.find('a', class_='product-card__link-overlay').get('href')\n",
    "        name = product.find('div', class_= 'product-card__title').text\n",
    "        subtitle = product.find('div', class_= 'product-card__subtitle').text\n",
    "        full_price = product.find('div', class_= 'product-price is--striked-out').text\n",
    "        sale_price = product.find('div', class_= 'product-price is--current-price css-s56yt7').text\n",
    "        # df = df.append({'Link': link,\n",
    "        #                 'Name': name,\n",
    "        #                 'Subtitle': subtitle,\n",
    "        #                 'Price': full_price,\n",
    "        #                 'Sale Price': sale_price},\n",
    "        #                 ignore_index = True)\n",
    "        df = pd.concat([df, pd.DataFrame.from_records([{'Link': link,\n",
    "                        'Name': name,\n",
    "                        'Subtitle': subtitle,\n",
    "                        'Price': full_price,\n",
    "                        'Sale Price': sale_price}])])\n",
    "    except:\n",
    "        pass"
   ]
  },
  {
   "cell_type": "code",
   "execution_count": 7,
   "metadata": {},
   "outputs": [
    {
     "data": {
      "text/html": [
       "<div>\n",
       "<style scoped>\n",
       "    .dataframe tbody tr th:only-of-type {\n",
       "        vertical-align: middle;\n",
       "    }\n",
       "\n",
       "    .dataframe tbody tr th {\n",
       "        vertical-align: top;\n",
       "    }\n",
       "\n",
       "    .dataframe thead th {\n",
       "        text-align: right;\n",
       "    }\n",
       "</style>\n",
       "<table border=\"1\" class=\"dataframe\">\n",
       "  <thead>\n",
       "    <tr style=\"text-align: right;\">\n",
       "      <th></th>\n",
       "      <th>Link</th>\n",
       "      <th>Name</th>\n",
       "      <th>Subtitle</th>\n",
       "      <th>Price</th>\n",
       "      <th>Sale Price</th>\n",
       "    </tr>\n",
       "  </thead>\n",
       "  <tbody>\n",
       "    <tr>\n",
       "      <th>0</th>\n",
       "      <td></td>\n",
       "      <td></td>\n",
       "      <td></td>\n",
       "      <td></td>\n",
       "      <td></td>\n",
       "    </tr>\n",
       "    <tr>\n",
       "      <th>0</th>\n",
       "      <td>https://www.nike.com/in/t/liverpool-fc-2021-22...</td>\n",
       "      <td>Liverpool F.C. 2021/22 Stadium Home</td>\n",
       "      <td>Men's Football Shirt</td>\n",
       "      <td>₹4,695</td>\n",
       "      <td>₹3,757</td>\n",
       "    </tr>\n",
       "    <tr>\n",
       "      <th>0</th>\n",
       "      <td>https://www.nike.com/in/t/lebron-19-basketball...</td>\n",
       "      <td>LeBron 19</td>\n",
       "      <td>Basketball Shoe</td>\n",
       "      <td>₹17,595</td>\n",
       "      <td>₹14,077</td>\n",
       "    </tr>\n",
       "    <tr>\n",
       "      <th>0</th>\n",
       "      <td>https://www.nike.com/in/t/dri-fit-rival-basket...</td>\n",
       "      <td>Nike Dri-FIT Rival</td>\n",
       "      <td>Men's Basketball Shorts</td>\n",
       "      <td>₹1,595</td>\n",
       "      <td>₹1,277</td>\n",
       "    </tr>\n",
       "    <tr>\n",
       "      <th>0</th>\n",
       "      <td>https://www.nike.com/in/t/crater-impact-shoes-...</td>\n",
       "      <td>Nike Crater Impact</td>\n",
       "      <td>Women's Shoes</td>\n",
       "      <td>₹8,295</td>\n",
       "      <td>₹6,637</td>\n",
       "    </tr>\n",
       "    <tr>\n",
       "      <th>...</th>\n",
       "      <td>...</td>\n",
       "      <td>...</td>\n",
       "      <td>...</td>\n",
       "      <td>...</td>\n",
       "      <td>...</td>\n",
       "    </tr>\n",
       "    <tr>\n",
       "      <th>0</th>\n",
       "      <td>https://www.nike.com/in/t/story-pack-training-...</td>\n",
       "      <td>Nike Therma-FIT Story Pack</td>\n",
       "      <td>Men's Full-Zip Training Hoodie</td>\n",
       "      <td>₹3,995</td>\n",
       "      <td>₹3,197</td>\n",
       "    </tr>\n",
       "    <tr>\n",
       "      <th>0</th>\n",
       "      <td>https://www.nike.com/in/t/court-vision-low-sho...</td>\n",
       "      <td>Nike Court Vision Low Premium</td>\n",
       "      <td>Women's Shoes</td>\n",
       "      <td>₹5,995</td>\n",
       "      <td>₹4,797</td>\n",
       "    </tr>\n",
       "    <tr>\n",
       "      <th>0</th>\n",
       "      <td>https://www.nike.com/in/t/polo-polo-N920kf/DA3...</td>\n",
       "      <td>The Nike Polo</td>\n",
       "      <td>Women's Polo</td>\n",
       "      <td>₹2,995</td>\n",
       "      <td>₹2,397</td>\n",
       "    </tr>\n",
       "    <tr>\n",
       "      <th>0</th>\n",
       "      <td>https://www.nike.com/in/t/yoga-dri-fit-printed...</td>\n",
       "      <td>Nike Yoga Dri-FIT</td>\n",
       "      <td>Women's Printed PJ Tank</td>\n",
       "      <td>₹1,695</td>\n",
       "      <td>₹1,357</td>\n",
       "    </tr>\n",
       "    <tr>\n",
       "      <th>0</th>\n",
       "      <td>https://www.nike.com/in/t/air-max-dawn-shoe-gq...</td>\n",
       "      <td>Nike Air Max Dawn</td>\n",
       "      <td>Men's Shoes</td>\n",
       "      <td>₹9,295</td>\n",
       "      <td>₹7,437</td>\n",
       "    </tr>\n",
       "  </tbody>\n",
       "</table>\n",
       "<p>715 rows × 5 columns</p>\n",
       "</div>"
      ],
      "text/plain": [
       "                                                 Link  \\\n",
       "0                                                       \n",
       "0   https://www.nike.com/in/t/liverpool-fc-2021-22...   \n",
       "0   https://www.nike.com/in/t/lebron-19-basketball...   \n",
       "0   https://www.nike.com/in/t/dri-fit-rival-basket...   \n",
       "0   https://www.nike.com/in/t/crater-impact-shoes-...   \n",
       "..                                                ...   \n",
       "0   https://www.nike.com/in/t/story-pack-training-...   \n",
       "0   https://www.nike.com/in/t/court-vision-low-sho...   \n",
       "0   https://www.nike.com/in/t/polo-polo-N920kf/DA3...   \n",
       "0   https://www.nike.com/in/t/yoga-dri-fit-printed...   \n",
       "0   https://www.nike.com/in/t/air-max-dawn-shoe-gq...   \n",
       "\n",
       "                                   Name                        Subtitle  \\\n",
       "0                                                                         \n",
       "0   Liverpool F.C. 2021/22 Stadium Home            Men's Football Shirt   \n",
       "0                             LeBron 19                 Basketball Shoe   \n",
       "0                    Nike Dri-FIT Rival         Men's Basketball Shorts   \n",
       "0                    Nike Crater Impact                   Women's Shoes   \n",
       "..                                  ...                             ...   \n",
       "0            Nike Therma-FIT Story Pack  Men's Full-Zip Training Hoodie   \n",
       "0         Nike Court Vision Low Premium                   Women's Shoes   \n",
       "0                         The Nike Polo                    Women's Polo   \n",
       "0                     Nike Yoga Dri-FIT         Women's Printed PJ Tank   \n",
       "0                     Nike Air Max Dawn                     Men's Shoes   \n",
       "\n",
       "      Price Sale Price  \n",
       "0                       \n",
       "0    ₹4,695     ₹3,757  \n",
       "0   ₹17,595    ₹14,077  \n",
       "0    ₹1,595     ₹1,277  \n",
       "0    ₹8,295     ₹6,637  \n",
       "..      ...        ...  \n",
       "0    ₹3,995     ₹3,197  \n",
       "0    ₹5,995     ₹4,797  \n",
       "0    ₹2,995     ₹2,397  \n",
       "0    ₹1,695     ₹1,357  \n",
       "0    ₹9,295     ₹7,437  \n",
       "\n",
       "[715 rows x 5 columns]"
      ]
     },
     "execution_count": 7,
     "metadata": {},
     "output_type": "execute_result"
    }
   ],
   "source": [
    "df"
   ]
  },
  {
   "cell_type": "code",
   "execution_count": null,
   "metadata": {},
   "outputs": [],
   "source": []
  }
 ],
 "metadata": {
  "interpreter": {
   "hash": "13d2792e4f2819b8093960b039132d3760743ed60be27fa60d69b27299b1c98d"
  },
  "kernelspec": {
   "display_name": "Python 3.9.2 64-bit",
   "language": "python",
   "name": "python3"
  },
  "language_info": {
   "codemirror_mode": {
    "name": "ipython",
    "version": 3
   },
   "file_extension": ".py",
   "mimetype": "text/x-python",
   "name": "python",
   "nbconvert_exporter": "python",
   "pygments_lexer": "ipython3",
   "version": "3.9.2"
  },
  "orig_nbformat": 4
 },
 "nbformat": 4,
 "nbformat_minor": 2
}
