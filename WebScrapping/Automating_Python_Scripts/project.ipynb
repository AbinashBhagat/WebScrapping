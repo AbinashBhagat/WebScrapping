{
 "cells": [
  {
   "cell_type": "code",
   "execution_count": 1,
   "metadata": {},
   "outputs": [],
   "source": [
    "file_location = 'C:/Users/abinash.k.bhagat/Desktop/WebScrapping/Automating_Python_Scripts/project.ipynb'"
   ]
  },
  {
   "cell_type": "code",
   "execution_count": null,
   "metadata": {},
   "outputs": [],
   "source": []
  },
  {
   "cell_type": "code",
   "execution_count": null,
   "metadata": {},
   "outputs": [],
   "source": [
    "import smtplib, ssl\n",
    "from email.mime.text import MIMEText\n",
    "from email.mime.base import MIMEBase\n",
    "from email.mime.multipart import MIMEMultipart\n",
    "from email import encoders"
   ]
  },
  {
   "cell_type": "code",
   "execution_count": 6,
   "metadata": {},
   "outputs": [],
   "source": [
    "sender = 'abinashkumarbhagat21@gmail.com'\n",
    "reciever = 'abinashbhagat21@gmail.com'\n",
    "msg = MIMEMultipart()\n",
    "msg['Subject'] = 'New Jobs on Indeed'\n",
    "msg['From'] = sender\n",
    "msg['To'] = ','.join(reciever)"
   ]
  },
  {
   "cell_type": "code",
   "execution_count": null,
   "metadata": {},
   "outputs": [],
   "source": [
    "part = MIMEBase('application', 'octet-stream')\n",
    "part.set_payload(open('', 'rb').read()) # filename\n",
    "encoders.encode_base64(part)\n",
    "part.add_header('Content-Disposition', 'attachment; filename = \"\"') #filename\n",
    "msg.attach(part)"
   ]
  },
  {
   "cell_type": "code",
   "execution_count": 8,
   "metadata": {},
   "outputs": [],
   "source": [
    "s = smtplib.SMTP_SSL(host = 'smtp.gmail.com', port = 465)\n",
    "s.login(user = sender, password = 'Sweetboy@0167') \n",
    "s.sendmail(sender, reciever, msg.as_string())\n",
    "s.quit()"
   ]
  },
  {
   "cell_type": "code",
   "execution_count": null,
   "metadata": {},
   "outputs": [],
   "source": []
  }
 ],
 "metadata": {
  "interpreter": {
   "hash": "13d2792e4f2819b8093960b039132d3760743ed60be27fa60d69b27299b1c98d"
  },
  "kernelspec": {
   "display_name": "Python 3.9.2 64-bit",
   "language": "python",
   "name": "python3"
  },
  "language_info": {
   "codemirror_mode": {
    "name": "ipython",
    "version": 3
   },
   "file_extension": ".py",
   "mimetype": "text/x-python",
   "name": "python",
   "nbconvert_exporter": "python",
   "pygments_lexer": "ipython3",
   "version": "3.9.2"
  },
  "orig_nbformat": 4
 },
 "nbformat": 4,
 "nbformat_minor": 2
}
